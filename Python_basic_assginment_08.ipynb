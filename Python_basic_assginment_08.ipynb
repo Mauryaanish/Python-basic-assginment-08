{
  "nbformat": 4,
  "nbformat_minor": 0,
  "metadata": {
    "colab": {
      "provenance": []
    },
    "kernelspec": {
      "name": "python3",
      "display_name": "Python 3"
    },
    "language_info": {
      "name": "python"
    }
  },
  "cells": [
    {
      "cell_type": "code",
      "execution_count": null,
      "metadata": {
        "id": "n7ji4tknYrWS"
      },
      "outputs": [],
      "source": []
    },
    {
      "cell_type": "markdown",
      "source": [
        "## 1.Is the Python Standard Library included with PyInputPlus?\n",
        "\n",
        "Answer:- PyInputPlus is not a part of the Python Standard Library, we must install it separately using Pip."
      ],
      "metadata": {
        "id": "q7W_ZXSGZwZD"
      }
    },
    {
      "cell_type": "code",
      "source": [],
      "metadata": {
        "id": "XdVaoQglZ6lw"
      },
      "execution_count": null,
      "outputs": []
    },
    {
      "cell_type": "markdown",
      "source": [
        "## 2. Why is PyInputPlus commonly imported with import pyinputplus as pypi?\n",
        "\n",
        "Answer:- You can import the module with import pyinputplus as pyip so that you can enter a shorter name when calling the module’s functions"
      ],
      "metadata": {
        "id": "BYYTZzWhZ9ay"
      }
    },
    {
      "cell_type": "code",
      "source": [],
      "metadata": {
        "id": "uLt24q1yaF59"
      },
      "execution_count": null,
      "outputs": []
    },
    {
      "cell_type": "markdown",
      "source": [
        "## 3. How do you distinguish between inputInt() and inputFloat()?\n",
        "\n",
        "Answer:- The difference is in the data-type when you use the first one the program expects an integer value as input but in the latter it expects a float value i.e number containing a decimal"
      ],
      "metadata": {
        "id": "v0cY33Q5aGc6"
      }
    },
    {
      "cell_type": "code",
      "source": [],
      "metadata": {
        "id": "vntnkFepaRuc"
      },
      "execution_count": null,
      "outputs": []
    },
    {
      "cell_type": "markdown",
      "source": [
        "## 4. Using PyInputPlus, how do you ensure that the user enters a whole number between 0 and 99?\n",
        "\n",
        "Answer:- By using pyip.inputint(min=0, max=99)"
      ],
      "metadata": {
        "id": "BvkiYSoCaSWy"
      }
    },
    {
      "cell_type": "code",
      "source": [],
      "metadata": {
        "id": "M8OkhTP1aZqk"
      },
      "execution_count": null,
      "outputs": []
    },
    {
      "cell_type": "markdown",
      "source": [
        "## 5. What is transferred to the keyword arguments allowRegexes and blockRegexes?\n",
        "\n",
        "Answer:- A list of regex strings that are either explicitly allowed or denied\n",
        "\n"
      ],
      "metadata": {
        "id": "nfnecaN_aaXR"
      }
    },
    {
      "cell_type": "code",
      "source": [],
      "metadata": {
        "id": "IY1NZ-3eah-2"
      },
      "execution_count": null,
      "outputs": []
    },
    {
      "cell_type": "markdown",
      "source": [
        "## 6. If a blank input is entered three times, what does inputStr(limit=3) do?\n",
        "\n",
        "Answer:- The function will raise RetryLimitException."
      ],
      "metadata": {
        "id": "RsufCasgainE"
      }
    },
    {
      "cell_type": "code",
      "source": [],
      "metadata": {
        "id": "NP2MuqZaas4U"
      },
      "execution_count": null,
      "outputs": []
    },
    {
      "cell_type": "markdown",
      "source": [
        "## 7.If blank input is entered three times, what does inputStr(limit=3, default=&#39;hello&#39;) do?\n",
        "\n",
        "Answer:- The function returns the value 'hello'"
      ],
      "metadata": {
        "id": "QGizptI0au3i"
      }
    },
    {
      "cell_type": "code",
      "source": [],
      "metadata": {
        "id": "-juwK7LXa0nS"
      },
      "execution_count": null,
      "outputs": []
    }
  ]
}